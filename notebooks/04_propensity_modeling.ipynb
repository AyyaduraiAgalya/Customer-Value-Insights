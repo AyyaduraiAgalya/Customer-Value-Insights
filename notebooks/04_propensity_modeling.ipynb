{
 "cells": [
  {
   "cell_type": "markdown",
   "id": "f86b6305-d266-4b71-aefa-4a421eb25e09",
   "metadata": {},
   "source": [
    "## Load the segmented data"
   ]
  },
  {
   "cell_type": "code",
   "execution_count": 7,
   "id": "f39e4a6f-c7e3-4870-9cf1-0eeb6f5bb3b8",
   "metadata": {},
   "outputs": [
    {
     "name": "stdout",
     "output_type": "stream",
     "text": [
      "     ID  Year_Birth   Income  Kidhome  Teenhome Dt_Customer  Recency  \\\n",
      "0  5524        1957  58138.0        0         0  04/09/2012       58   \n",
      "1  2174        1954  46344.0        1         1  08/03/2014       38   \n",
      "2  4141        1965  71613.0        0         0  21/08/2013       26   \n",
      "3  6182        1984  26646.0        1         0  10/02/2014       26   \n",
      "4  5324        1981  58293.0        1         0  19/01/2014       94   \n",
      "\n",
      "   MntWines  MntFruits  MntMeatProducts  ...  Education_PhD  \\\n",
      "0       635         88              546  ...          False   \n",
      "1        11          1                6  ...          False   \n",
      "2       426         49              127  ...          False   \n",
      "3        11          4               20  ...          False   \n",
      "4       173         43              118  ...           True   \n",
      "\n",
      "   Marital_Status_Absurd  Marital_Status_Alone  Marital_Status_Divorced  \\\n",
      "0                  False                 False                    False   \n",
      "1                  False                 False                    False   \n",
      "2                  False                 False                    False   \n",
      "3                  False                 False                    False   \n",
      "4                  False                 False                    False   \n",
      "\n",
      "   Marital_Status_Married  Marital_Status_Single  Marital_Status_Together  \\\n",
      "0                   False                   True                    False   \n",
      "1                   False                   True                    False   \n",
      "2                   False                  False                     True   \n",
      "3                   False                  False                     True   \n",
      "4                    True                  False                    False   \n",
      "\n",
      "   Marital_Status_Widow  Marital_Status_YOLO  cluster  \n",
      "0                 False                False        1  \n",
      "1                 False                False        0  \n",
      "2                 False                False        1  \n",
      "3                 False                False        0  \n",
      "4                 False                False        0  \n",
      "\n",
      "[5 rows x 45 columns]\n"
     ]
    }
   ],
   "source": [
    "# Import necessary libraries\n",
    "import pandas as pd\n",
    "\n",
    "# Load the segmented dataset\n",
    "data_path = '../data/processed/segmented-customer-data.csv'\n",
    "data = pd.read_csv(data_path)\n",
    "\n",
    "# Display the first few rows of the dataset\n",
    "print(data.head())"
   ]
  },
  {
   "cell_type": "markdown",
   "id": "878e651c-ecbd-4754-8012-0956e143e8fd",
   "metadata": {},
   "source": [
    "## Prepare data for modelling"
   ]
  },
  {
   "cell_type": "code",
   "execution_count": 3,
   "id": "cb3acf03-346b-44b6-83e0-20ba8b21b0fb",
   "metadata": {},
   "outputs": [],
   "source": [
    "from sklearn.model_selection import train_test_split\n",
    "\n",
    "# Define features and target variable\n",
    "features = data[['Age', 'Total_Spend', 'Total_Children', 'Income', 'Recency', 'NumWebPurchases', 'NumCatalogPurchases', 'NumStorePurchases', 'NumWebVisitsMonth']]\n",
    "target = data['Response']\n",
    "\n",
    "# Split data into training and testing sets\n",
    "X_train, X_test, y_train, y_test = train_test_split(features, target, test_size=0.2, random_state=42)"
   ]
  },
  {
   "cell_type": "markdown",
   "id": "be8aebc4-b0ec-4623-863d-2ca531110e05",
   "metadata": {},
   "source": [
    "## Develop and Evaluate the Propensity Model"
   ]
  },
  {
   "cell_type": "code",
   "execution_count": 6,
   "id": "a594a0e4-7988-4cdb-b2c5-d3821e6de22a",
   "metadata": {},
   "outputs": [
    {
     "name": "stdout",
     "output_type": "stream",
     "text": [
      "Accuracy: 0.84375\n",
      "Precision: 0.4782608695652174\n",
      "Recall: 0.15942028985507245\n",
      "AUC-ROC: 0.5638790103628925\n"
     ]
    },
    {
     "data": {
      "text/plain": [
       "['../models/propensity_model.pkl']"
      ]
     },
     "execution_count": 6,
     "metadata": {},
     "output_type": "execute_result"
    }
   ],
   "source": [
    "from sklearn.linear_model import LogisticRegression\n",
    "from sklearn.model_selection import GridSearchCV\n",
    "from sklearn.metrics import accuracy_score, precision_score, recall_score, roc_auc_score\n",
    "import joblib\n",
    "\n",
    "# Define the model and parameters\n",
    "model = LogisticRegression(max_iter=10000)\n",
    "param_grid = {'C': [0.1, 1, 10, 100]}\n",
    "\n",
    "# Perform GridSearchCV\n",
    "grid_search = GridSearchCV(model, param_grid, cv=5, scoring='accuracy')\n",
    "grid_search.fit(X_train, y_train)\n",
    "\n",
    "# Best model\n",
    "best_model = grid_search.best_estimator_\n",
    "\n",
    "# Predict on the test set\n",
    "y_pred = best_model.predict(X_test)\n",
    "\n",
    "# Evaluate the model\n",
    "accuracy = accuracy_score(y_test, y_pred)\n",
    "precision = precision_score(y_test, y_pred)\n",
    "recall = recall_score(y_test, y_pred)\n",
    "auc = roc_auc_score(y_test, y_pred)\n",
    "\n",
    "print(f'Accuracy: {accuracy}')\n",
    "print(f'Precision: {precision}')\n",
    "print(f'Recall: {recall}')\n",
    "print(f'AUC-ROC: {auc}')\n",
    "\n",
    "# Save the trained propensity model\n",
    "model_path = '../models/propensity_model.pkl'\n",
    "joblib.dump(best_model, model_path)\n"
   ]
  }
 ],
 "metadata": {
  "kernelspec": {
   "display_name": "cvi-env",
   "language": "python",
   "name": "env"
  },
  "language_info": {
   "codemirror_mode": {
    "name": "ipython",
    "version": 3
   },
   "file_extension": ".py",
   "mimetype": "text/x-python",
   "name": "python",
   "nbconvert_exporter": "python",
   "pygments_lexer": "ipython3",
   "version": "3.13.0"
  }
 },
 "nbformat": 4,
 "nbformat_minor": 5
}

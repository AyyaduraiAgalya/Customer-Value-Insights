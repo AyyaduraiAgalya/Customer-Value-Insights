{
 "cells": [
  {
   "cell_type": "markdown",
   "id": "f86b6305-d266-4b71-aefa-4a421eb25e09",
   "metadata": {},
   "source": [
    "## Load the segmented data"
   ]
  },
  {
   "cell_type": "code",
   "execution_count": 1,
   "id": "f39e4a6f-c7e3-4870-9cf1-0eeb6f5bb3b8",
   "metadata": {},
   "outputs": [
    {
     "name": "stdout",
     "output_type": "stream",
     "text": [
      "     ID  Year_Birth   Education Marital_Status   Income  Kidhome  Teenhome  \\\n",
      "0  5524        1957  Graduation         Single  58138.0        0         0   \n",
      "1  2174        1954  Graduation         Single  46344.0        1         1   \n",
      "2  4141        1965  Graduation       Together  71613.0        0         0   \n",
      "3  6182        1984  Graduation       Together  26646.0        1         0   \n",
      "4  5324        1981         PhD        Married  58293.0        1         0   \n",
      "\n",
      "  Dt_Customer  Recency  MntWines  ...  AcceptedCmp2  Complain  Z_CostContact  \\\n",
      "0  04-09-2012       58       635  ...             0         0              3   \n",
      "1  08-03-2014       38        11  ...             0         0              3   \n",
      "2  21-08-2013       26       426  ...             0         0              3   \n",
      "3  10-02-2014       26        11  ...             0         0              3   \n",
      "4  19-01-2014       94       173  ...             0         0              3   \n",
      "\n",
      "   Z_Revenue  Response  Age  Total_Children  Total_Spend  Recency_Group  \\\n",
      "0         11         1   67               0         1617    Less Recent   \n",
      "1         11         0   70               2           27         Recent   \n",
      "2         11         0   59               0          776         Recent   \n",
      "3         11         0   40               1           53         Recent   \n",
      "4         11         0   43               1          422     Not Recent   \n",
      "\n",
      "   cluster  \n",
      "0        1  \n",
      "1        0  \n",
      "2        2  \n",
      "3        0  \n",
      "4        0  \n",
      "\n",
      "[5 rows x 34 columns]\n"
     ]
    }
   ],
   "source": [
    "# Import necessary libraries\n",
    "import pandas as pd\n",
    "\n",
    "# Load the segmented dataset\n",
    "data_path = '/Users/agalyaayyadurai/PycharmProjects/Customer-Value-Insights/data/processed/segmented_data.csv'\n",
    "data = pd.read_csv(data_path)\n",
    "\n",
    "# Display the first few rows of the dataset\n",
    "print(data.head())"
   ]
  },
  {
   "cell_type": "markdown",
   "id": "878e651c-ecbd-4754-8012-0956e143e8fd",
   "metadata": {},
   "source": [
    "## Prepare data for modelling"
   ]
  },
  {
   "cell_type": "code",
   "execution_count": 2,
   "id": "cb3acf03-346b-44b6-83e0-20ba8b21b0fb",
   "metadata": {},
   "outputs": [],
   "source": [
    "from sklearn.model_selection import train_test_split\n",
    "\n",
    "# Define features and target variable\n",
    "features = data[['Age', 'Total_Spend', 'Total_Children', 'Income', 'Recency', 'NumWebPurchases', 'NumCatalogPurchases', 'NumStorePurchases', 'NumWebVisitsMonth']]\n",
    "target = data['Response']\n",
    "\n",
    "# One-hot encode categorical variables\n",
    "data = pd.get_dummies(data, columns=['Education', 'Marital_Status'])\n",
    "\n",
    "# Split data into training and testing sets\n",
    "X_train, X_test, y_train, y_test = train_test_split(features, target, test_size=0.2, random_state=42)"
   ]
  },
  {
   "cell_type": "markdown",
   "id": "be8aebc4-b0ec-4623-863d-2ca531110e05",
   "metadata": {},
   "source": [
    "## Develop and Evaluate the Propensity Model"
   ]
  },
  {
   "cell_type": "code",
   "execution_count": 3,
   "id": "a594a0e4-7988-4cdb-b2c5-d3821e6de22a",
   "metadata": {},
   "outputs": [
    {
     "name": "stdout",
     "output_type": "stream",
     "text": [
      "Accuracy: 0.84375\n",
      "Precision: 0.4782608695652174\n",
      "Recall: 0.15942028985507245\n",
      "AUC-ROC: 0.5638790103628925\n"
     ]
    },
    {
     "data": {
      "text/plain": [
       "['/Users/agalyaayyadurai/PycharmProjects/Customer-Value-Insights/models/propensity_model_updated.pkl']"
      ]
     },
     "execution_count": 3,
     "metadata": {},
     "output_type": "execute_result"
    }
   ],
   "source": [
    "from sklearn.linear_model import LogisticRegression\n",
    "from sklearn.model_selection import GridSearchCV\n",
    "from sklearn.metrics import accuracy_score, precision_score, recall_score, roc_auc_score\n",
    "import joblib\n",
    "\n",
    "# Define the model and parameters\n",
    "model = LogisticRegression(max_iter=10000)\n",
    "param_grid = {'C': [0.1, 1, 10, 100]}\n",
    "\n",
    "# Perform GridSearchCV\n",
    "grid_search = GridSearchCV(model, param_grid, cv=5, scoring='accuracy')\n",
    "grid_search.fit(X_train, y_train)\n",
    "\n",
    "# Best model\n",
    "best_model = grid_search.best_estimator_\n",
    "\n",
    "# Predict on the test set\n",
    "y_pred = best_model.predict(X_test)\n",
    "\n",
    "# Evaluate the model\n",
    "accuracy = accuracy_score(y_test, y_pred)\n",
    "precision = precision_score(y_test, y_pred)\n",
    "recall = recall_score(y_test, y_pred)\n",
    "auc = roc_auc_score(y_test, y_pred)\n",
    "\n",
    "print(f'Accuracy: {accuracy}')\n",
    "print(f'Precision: {precision}')\n",
    "print(f'Recall: {recall}')\n",
    "print(f'AUC-ROC: {auc}')\n",
    "\n",
    "# Save the trained propensity model\n",
    "model_path = '/Users/agalyaayyadurai/PycharmProjects/Customer-Value-Insights/models/propensity_model_updated.pkl'\n",
    "joblib.dump(best_model, model_path)\n"
   ]
  }
 ],
 "metadata": {
  "kernelspec": {
   "display_name": "Python (cvi)",
   "language": "python",
   "name": "cvi"
  },
  "language_info": {
   "codemirror_mode": {
    "name": "ipython",
    "version": 3
   },
   "file_extension": ".py",
   "mimetype": "text/x-python",
   "name": "python",
   "nbconvert_exporter": "python",
   "pygments_lexer": "ipython3",
   "version": "3.12.0"
  }
 },
 "nbformat": 4,
 "nbformat_minor": 5
}

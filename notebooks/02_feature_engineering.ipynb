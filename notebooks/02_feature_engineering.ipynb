{
 "cells": [
  {
   "cell_type": "markdown",
   "id": "0ddc2605-2abd-4105-bc2b-17a57b9385ae",
   "metadata": {},
   "source": [
    "## Load the Cleaned data"
   ]
  },
  {
   "cell_type": "code",
   "execution_count": 3,
   "id": "0f38f39b-2b84-498b-a52b-bfcea0f1173d",
   "metadata": {},
   "outputs": [
    {
     "name": "stdout",
     "output_type": "stream",
     "text": [
      "     ID  Year_Birth   Education Marital_Status   Income  Kidhome  Teenhome  \\\n",
      "0  5524        1957  Graduation         Single  58138.0        0         0   \n",
      "1  2174        1954  Graduation         Single  46344.0        1         1   \n",
      "2  4141        1965  Graduation       Together  71613.0        0         0   \n",
      "3  6182        1984  Graduation       Together  26646.0        1         0   \n",
      "4  5324        1981         PhD        Married  58293.0        1         0   \n",
      "\n",
      "  Dt_Customer  Recency  MntWines  ...  NumWebVisitsMonth  AcceptedCmp3  \\\n",
      "0  04-09-2012       58       635  ...                  7             0   \n",
      "1  08-03-2014       38        11  ...                  5             0   \n",
      "2  21-08-2013       26       426  ...                  4             0   \n",
      "3  10-02-2014       26        11  ...                  6             0   \n",
      "4  19-01-2014       94       173  ...                  5             0   \n",
      "\n",
      "   AcceptedCmp4  AcceptedCmp5  AcceptedCmp1  AcceptedCmp2  Complain  \\\n",
      "0             0             0             0             0         0   \n",
      "1             0             0             0             0         0   \n",
      "2             0             0             0             0         0   \n",
      "3             0             0             0             0         0   \n",
      "4             0             0             0             0         0   \n",
      "\n",
      "   Z_CostContact  Z_Revenue  Response  \n",
      "0              3         11         1  \n",
      "1              3         11         0  \n",
      "2              3         11         0  \n",
      "3              3         11         0  \n",
      "4              3         11         0  \n",
      "\n",
      "[5 rows x 29 columns]\n"
     ]
    }
   ],
   "source": [
    "import pandas as pd\n",
    "data_path = \"/Users/agalyaayyadurai/PycharmProjects/Customer-Value-Insights/data/processed/cleaned_data.csv\"\n",
    "data = pd.read_csv(data_path)\n",
    "print(data.head())"
   ]
  },
  {
   "cell_type": "markdown",
   "id": "96b0c884-22f7-4fcd-be61-fd4506a3ebf0",
   "metadata": {},
   "source": [
    "## Create new Features"
   ]
  },
  {
   "cell_type": "code",
   "execution_count": 4,
   "id": "bdf10c5b-e457-4973-911d-1eb21cfada3e",
   "metadata": {},
   "outputs": [
    {
     "name": "stdout",
     "output_type": "stream",
     "text": [
      "     ID  Year_Birth   Education Marital_Status   Income  Kidhome  Teenhome  \\\n",
      "0  5524        1957  Graduation         Single  58138.0        0         0   \n",
      "1  2174        1954  Graduation         Single  46344.0        1         1   \n",
      "2  4141        1965  Graduation       Together  71613.0        0         0   \n",
      "3  6182        1984  Graduation       Together  26646.0        1         0   \n",
      "4  5324        1981         PhD        Married  58293.0        1         0   \n",
      "\n",
      "  Dt_Customer  Recency  MntWines  ...  AcceptedCmp1  AcceptedCmp2  Complain  \\\n",
      "0  04-09-2012       58       635  ...             0             0         0   \n",
      "1  08-03-2014       38        11  ...             0             0         0   \n",
      "2  21-08-2013       26       426  ...             0             0         0   \n",
      "3  10-02-2014       26        11  ...             0             0         0   \n",
      "4  19-01-2014       94       173  ...             0             0         0   \n",
      "\n",
      "   Z_CostContact  Z_Revenue  Response  Age  Total_Children  Total_Spend  \\\n",
      "0              3         11         1   67               0         1617   \n",
      "1              3         11         0   70               2           27   \n",
      "2              3         11         0   59               0          776   \n",
      "3              3         11         0   40               1           53   \n",
      "4              3         11         0   43               1          422   \n",
      "\n",
      "   Recency_Group  \n",
      "0    Less Recent  \n",
      "1         Recent  \n",
      "2         Recent  \n",
      "3         Recent  \n",
      "4     Not Recent  \n",
      "\n",
      "[5 rows x 33 columns]\n"
     ]
    }
   ],
   "source": [
    "# Calculate age\n",
    "data['Age'] = 2024 - data['Year_Birth']\n",
    "\n",
    "# Total children\n",
    "data['Total_Children'] = data['Kidhome'] + data['Teenhome']\n",
    "\n",
    "# Total spend\n",
    "spend_features = ['MntWines', 'MntFruits', 'MntMeatProducts', 'MntFishProducts', 'MntSweetProducts', 'MntGoldProds']\n",
    "data['Total_Spend'] = data[spend_features].sum(axis=1)\n",
    "\n",
    "# Recency group\n",
    "data['Recency_Group'] = pd.cut(data['Recency'], bins=4, labels=['Very Recent', 'Recent', 'Less Recent', 'Not Recent'])\n",
    "\n",
    "print(data.head())"
   ]
  },
  {
   "cell_type": "markdown",
   "id": "722fdfcd-871d-4536-be87-51d179f74911",
   "metadata": {},
   "source": [
    "## One-Hot encode categorical variables"
   ]
  },
  {
   "cell_type": "code",
   "execution_count": 6,
   "id": "08b5b122-fef7-4cd2-8fd6-6b73bf95dadd",
   "metadata": {},
   "outputs": [
    {
     "name": "stdout",
     "output_type": "stream",
     "text": [
      "The history saving thread hit an unexpected error (OperationalError('attempt to write a readonly database')).History will not be written to the database.\n",
      "     ID  Year_Birth   Income  Kidhome  Teenhome Dt_Customer  Recency  \\\n",
      "0  5524        1957  58138.0        0         0  04-09-2012       58   \n",
      "1  2174        1954  46344.0        1         1  08-03-2014       38   \n",
      "2  4141        1965  71613.0        0         0  21-08-2013       26   \n",
      "3  6182        1984  26646.0        1         0  10-02-2014       26   \n",
      "4  5324        1981  58293.0        1         0  19-01-2014       94   \n",
      "\n",
      "   MntWines  MntFruits  MntMeatProducts  ...  Education_Master  Education_PhD  \\\n",
      "0       635         88              546  ...             False          False   \n",
      "1        11          1                6  ...             False          False   \n",
      "2       426         49              127  ...             False          False   \n",
      "3        11          4               20  ...             False          False   \n",
      "4       173         43              118  ...             False           True   \n",
      "\n",
      "   Marital_Status_Absurd  Marital_Status_Alone  Marital_Status_Divorced  \\\n",
      "0                  False                 False                    False   \n",
      "1                  False                 False                    False   \n",
      "2                  False                 False                    False   \n",
      "3                  False                 False                    False   \n",
      "4                  False                 False                    False   \n",
      "\n",
      "   Marital_Status_Married  Marital_Status_Single  Marital_Status_Together  \\\n",
      "0                   False                   True                    False   \n",
      "1                   False                   True                    False   \n",
      "2                   False                  False                     True   \n",
      "3                   False                  False                     True   \n",
      "4                    True                  False                    False   \n",
      "\n",
      "   Marital_Status_Widow  Marital_Status_YOLO  \n",
      "0                 False                False  \n",
      "1                 False                False  \n",
      "2                 False                False  \n",
      "3                 False                False  \n",
      "4                 False                False  \n",
      "\n",
      "[5 rows x 44 columns]\n"
     ]
    }
   ],
   "source": [
    "# One-hot encode categorical variables\n",
    "data = pd.get_dummies(data, columns=['Education', 'Marital_Status'])\n",
    "\n",
    "# Display the first few rows of the dataset after encoding\n",
    "print(data.head())"
   ]
  },
  {
   "cell_type": "markdown",
   "id": "28ced149-ee75-4364-9257-c09c8ad763a9",
   "metadata": {},
   "source": [
    "## Define features and target variable"
   ]
  },
  {
   "cell_type": "code",
   "execution_count": 7,
   "id": "689144aa-dfa4-4bcb-bb12-689e7bd3118f",
   "metadata": {},
   "outputs": [
    {
     "name": "stdout",
     "output_type": "stream",
     "text": [
      "   Age  Total_Spend  Total_Children   Income  Recency  NumWebPurchases  \\\n",
      "0   67         1617               0  58138.0       58                8   \n",
      "1   70           27               2  46344.0       38                1   \n",
      "2   59          776               0  71613.0       26                8   \n",
      "3   40           53               1  26646.0       26                2   \n",
      "4   43          422               1  58293.0       94                5   \n",
      "\n",
      "   NumCatalogPurchases  NumStorePurchases  NumWebVisitsMonth  \\\n",
      "0                   10                  4                  7   \n",
      "1                    1                  2                  5   \n",
      "2                    2                 10                  4   \n",
      "3                    0                  4                  6   \n",
      "4                    3                  6                  5   \n",
      "\n",
      "   Education_2n Cycle  ...  Education_Master  Education_PhD  \\\n",
      "0               False  ...             False          False   \n",
      "1               False  ...             False          False   \n",
      "2               False  ...             False          False   \n",
      "3               False  ...             False          False   \n",
      "4               False  ...             False           True   \n",
      "\n",
      "   Marital_Status_Absurd  Marital_Status_Alone  Marital_Status_Divorced  \\\n",
      "0                  False                 False                    False   \n",
      "1                  False                 False                    False   \n",
      "2                  False                 False                    False   \n",
      "3                  False                 False                    False   \n",
      "4                  False                 False                    False   \n",
      "\n",
      "   Marital_Status_Married  Marital_Status_Single  Marital_Status_Together  \\\n",
      "0                   False                   True                    False   \n",
      "1                   False                   True                    False   \n",
      "2                   False                  False                     True   \n",
      "3                   False                  False                     True   \n",
      "4                    True                  False                    False   \n",
      "\n",
      "   Marital_Status_Widow  Marital_Status_YOLO  \n",
      "0                 False                False  \n",
      "1                 False                False  \n",
      "2                 False                False  \n",
      "3                 False                False  \n",
      "4                 False                False  \n",
      "\n",
      "[5 rows x 22 columns]\n",
      "0    1\n",
      "1    0\n",
      "2    0\n",
      "3    0\n",
      "4    0\n",
      "Name: Response, dtype: int64\n"
     ]
    }
   ],
   "source": [
    "# Define features and target variable\n",
    "features = data[['Age', 'Total_Spend', 'Total_Children', 'Income', 'Recency', \n",
    "                 'NumWebPurchases', 'NumCatalogPurchases', 'NumStorePurchases', 'NumWebVisitsMonth'] + \n",
    "                list(data.columns[data.columns.str.startswith('Education_')]) + \n",
    "                list(data.columns[data.columns.str.startswith('Marital_Status_')])]\n",
    "target = data['Response']\n",
    "\n",
    "# Display the features and target\n",
    "print(features.head())\n",
    "print(target.head())"
   ]
  },
  {
   "cell_type": "markdown",
   "id": "be223a9d-e7b1-4ca4-b12c-063d510568ec",
   "metadata": {},
   "source": [
    "## Standardize Features"
   ]
  },
  {
   "cell_type": "code",
   "execution_count": 8,
   "id": "8d4313d3-9970-451e-856b-ec726c59f81b",
   "metadata": {},
   "outputs": [
    {
     "name": "stdout",
     "output_type": "stream",
     "text": [
      "[[ 0.98534473  1.67941681 -1.2645053   0.23690766  0.30703926  1.40930394\n",
      "   2.51089024 -0.55078479  0.69390374 -0.31568395 -0.15717078  0.99376941\n",
      "  -0.44481565 -0.5263848  -0.02989406 -0.03662078 -0.33990859 -0.79240582\n",
      "   1.91485422 -0.59109863 -0.18867619 -0.02989406]\n",
      " [ 1.23573295 -0.96127545  1.39636071 -0.23250954 -0.38366418 -1.11040937\n",
      "  -0.56871962 -1.1661254  -0.13046347 -0.31568395 -0.15717078  0.99376941\n",
      "  -0.44481565 -0.5263848  -0.02989406 -0.03662078 -0.33990859 -0.79240582\n",
      "   1.91485422 -0.59109863 -0.18867619 -0.02989406]\n",
      " [ 0.3176428   0.28267329 -1.2645053   0.77323095 -0.79808624  1.40930394\n",
      "  -0.22654075  1.29523705 -0.54264708 -0.31568395 -0.15717078  0.99376941\n",
      "  -0.44481565 -0.5263848  -0.02989406 -0.03662078 -0.33990859 -0.79240582\n",
      "  -0.52223297  1.69176504 -0.18867619 -0.02989406]\n",
      " [-1.26814929 -0.91809432  0.06592771 -1.01651667 -0.79808624 -0.75045033\n",
      "  -0.91089849 -0.55078479  0.28172013 -0.31568395 -0.15717078  0.99376941\n",
      "  -0.44481565 -0.5263848  -0.02989406 -0.03662078 -0.33990859 -0.79240582\n",
      "  -0.52223297  1.69176504 -0.18867619 -0.02989406]\n",
      " [-1.01776106 -0.30525442  0.06592771  0.24307687  1.55030546  0.3294268\n",
      "   0.11563813  0.06455582 -0.13046347 -0.31568395 -0.15717078 -1.00626965\n",
      "  -0.44481565  1.8997509  -0.02989406 -0.03662078 -0.33990859  1.26197963\n",
      "  -0.52223297 -0.59109863 -0.18867619 -0.02989406]]\n"
     ]
    }
   ],
   "source": [
    "from sklearn.preprocessing import StandardScaler\n",
    "\n",
    "# Standardize features\n",
    "scaler = StandardScaler()\n",
    "features = scaler.fit_transform(features)\n",
    "\n",
    "# Display the first few rows of the standardized features\n",
    "print(features[:5])"
   ]
  },
  {
   "cell_type": "markdown",
   "id": "a8d35ca5-0832-4e6b-82bf-67277f7c0079",
   "metadata": {},
   "source": [
    "## Handle Class Imbalance"
   ]
  },
  {
   "cell_type": "code",
   "execution_count": 17,
   "id": "2758df1e-d836-4170-99f9-c6c336a302eb",
   "metadata": {},
   "outputs": [
    {
     "name": "stdout",
     "output_type": "stream",
     "text": [
      "(3812, 22)\n",
      "(3812,)\n"
     ]
    }
   ],
   "source": [
    "from imblearn.over_sampling import SMOTE\n",
    "\n",
    "# Handle class imbalance\n",
    "smote = SMOTE(random_state=42)\n",
    "X_resampled, y_resampled = smote.fit_resample(features, target)\n",
    "\n",
    "# Display the shape of the resampled data\n",
    "print(X_resampled.shape)\n",
    "print(y_resampled.shape)"
   ]
  },
  {
   "cell_type": "markdown",
   "id": "36c0eea4-4bc7-4561-ad52-e87ce8959fbc",
   "metadata": {},
   "source": [
    "## Saved the processed data"
   ]
  },
  {
   "cell_type": "code",
   "execution_count": 18,
   "id": "b329f968-a554-4b73-be2b-75d1d9e60d9d",
   "metadata": {},
   "outputs": [],
   "source": [
    "import numpy as np\n",
    "\n",
    "# Save the processed data\n",
    "np.save(\"/Users/agalyaayyadurai/PycharmProjects/Customer-Value-Insights/data/processed/X_resampled.npy\", X_resampled)\n",
    "np.save(\"/Users/agalyaayyadurai/PycharmProjects/Customer-Value-Insights/data/processed/y_resampled.npy\", y_resampled)"
   ]
  },
  {
   "cell_type": "markdown",
   "id": "0e5150ec-e3d1-44e6-8b79-93b510a8d2f8",
   "metadata": {},
   "source": [
    "## Save the engineered data"
   ]
  },
  {
   "cell_type": "code",
   "execution_count": 5,
   "id": "d7d77007-b095-419c-9265-5044db1c2691",
   "metadata": {},
   "outputs": [],
   "source": [
    "engineered_data_path = \"/Users/agalyaayyadurai/PycharmProjects/Customer-Value-Insights/data/processed/engineered_data.csv\"\n",
    "data.to_csv(engineered_data_path, index=False)"
   ]
  }
 ],
 "metadata": {
  "kernelspec": {
   "display_name": "Python (cvi)",
   "language": "python",
   "name": "cvi"
  },
  "language_info": {
   "codemirror_mode": {
    "name": "ipython",
    "version": 3
   },
   "file_extension": ".py",
   "mimetype": "text/x-python",
   "name": "python",
   "nbconvert_exporter": "python",
   "pygments_lexer": "ipython3",
   "version": "3.12.0"
  }
 },
 "nbformat": 4,
 "nbformat_minor": 5
}

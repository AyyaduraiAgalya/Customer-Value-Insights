{
 "cells": [
  {
   "cell_type": "markdown",
   "id": "0ddc2605-2abd-4105-bc2b-17a57b9385ae",
   "metadata": {},
   "source": [
    "## Load the Cleaned data"
   ]
  },
  {
   "cell_type": "code",
   "execution_count": 3,
   "id": "0f38f39b-2b84-498b-a52b-bfcea0f1173d",
   "metadata": {},
   "outputs": [
    {
     "name": "stdout",
     "output_type": "stream",
     "text": [
      "     ID  Year_Birth   Education Marital_Status   Income  Kidhome  Teenhome  \\\n",
      "0  5524        1957  Graduation         Single  58138.0        0         0   \n",
      "1  2174        1954  Graduation         Single  46344.0        1         1   \n",
      "2  4141        1965  Graduation       Together  71613.0        0         0   \n",
      "3  6182        1984  Graduation       Together  26646.0        1         0   \n",
      "4  5324        1981         PhD        Married  58293.0        1         0   \n",
      "\n",
      "  Dt_Customer  Recency  MntWines  ...  NumWebVisitsMonth  AcceptedCmp3  \\\n",
      "0  04-09-2012       58       635  ...                  7             0   \n",
      "1  08-03-2014       38        11  ...                  5             0   \n",
      "2  21-08-2013       26       426  ...                  4             0   \n",
      "3  10-02-2014       26        11  ...                  6             0   \n",
      "4  19-01-2014       94       173  ...                  5             0   \n",
      "\n",
      "   AcceptedCmp4  AcceptedCmp5  AcceptedCmp1  AcceptedCmp2  Complain  \\\n",
      "0             0             0             0             0         0   \n",
      "1             0             0             0             0         0   \n",
      "2             0             0             0             0         0   \n",
      "3             0             0             0             0         0   \n",
      "4             0             0             0             0         0   \n",
      "\n",
      "   Z_CostContact  Z_Revenue  Response  \n",
      "0              3         11         1  \n",
      "1              3         11         0  \n",
      "2              3         11         0  \n",
      "3              3         11         0  \n",
      "4              3         11         0  \n",
      "\n",
      "[5 rows x 29 columns]\n"
     ]
    }
   ],
   "source": [
    "import pandas as pd\n",
    "data_path = \"/Users/agalyaayyadurai/PycharmProjects/Customer-Value-Insights/data/processed/cleaned_data.csv\"\n",
    "data = pd.read_csv(data_path)\n",
    "print(data.head())"
   ]
  },
  {
   "cell_type": "markdown",
   "id": "96b0c884-22f7-4fcd-be61-fd4506a3ebf0",
   "metadata": {},
   "source": [
    "## Create new Features"
   ]
  },
  {
   "cell_type": "code",
   "execution_count": 4,
   "id": "bdf10c5b-e457-4973-911d-1eb21cfada3e",
   "metadata": {},
   "outputs": [
    {
     "name": "stdout",
     "output_type": "stream",
     "text": [
      "     ID  Year_Birth   Education Marital_Status   Income  Kidhome  Teenhome  \\\n",
      "0  5524        1957  Graduation         Single  58138.0        0         0   \n",
      "1  2174        1954  Graduation         Single  46344.0        1         1   \n",
      "2  4141        1965  Graduation       Together  71613.0        0         0   \n",
      "3  6182        1984  Graduation       Together  26646.0        1         0   \n",
      "4  5324        1981         PhD        Married  58293.0        1         0   \n",
      "\n",
      "  Dt_Customer  Recency  MntWines  ...  AcceptedCmp1  AcceptedCmp2  Complain  \\\n",
      "0  04-09-2012       58       635  ...             0             0         0   \n",
      "1  08-03-2014       38        11  ...             0             0         0   \n",
      "2  21-08-2013       26       426  ...             0             0         0   \n",
      "3  10-02-2014       26        11  ...             0             0         0   \n",
      "4  19-01-2014       94       173  ...             0             0         0   \n",
      "\n",
      "   Z_CostContact  Z_Revenue  Response  Age  Total_Children  Total_Spend  \\\n",
      "0              3         11         1   67               0         1617   \n",
      "1              3         11         0   70               2           27   \n",
      "2              3         11         0   59               0          776   \n",
      "3              3         11         0   40               1           53   \n",
      "4              3         11         0   43               1          422   \n",
      "\n",
      "   Recency_Group  \n",
      "0    Less Recent  \n",
      "1         Recent  \n",
      "2         Recent  \n",
      "3         Recent  \n",
      "4     Not Recent  \n",
      "\n",
      "[5 rows x 33 columns]\n"
     ]
    }
   ],
   "source": [
    "# Calculate age\n",
    "data['Age'] = 2024 - data['Year_Birth']\n",
    "\n",
    "# Total children\n",
    "data['Total_Children'] = data['Kidhome'] + data['Teenhome']\n",
    "\n",
    "# Total spend\n",
    "spend_features = ['MntWines', 'MntFruits', 'MntMeatProducts', 'MntFishProducts', 'MntSweetProducts', 'MntGoldProds']\n",
    "data['Total_Spend'] = data[spend_features].sum(axis=1)\n",
    "\n",
    "# Recency group\n",
    "data['Recency_Group'] = pd.cut(data['Recency'], bins=4, labels=['Very Recent', 'Recent', 'Less Recent', 'Not Recent'])\n",
    "\n",
    "print(data.head())"
   ]
  },
  {
   "cell_type": "markdown",
   "id": "0e5150ec-e3d1-44e6-8b79-93b510a8d2f8",
   "metadata": {},
   "source": [
    "## Save the engineered data"
   ]
  },
  {
   "cell_type": "code",
   "execution_count": 5,
   "id": "d7d77007-b095-419c-9265-5044db1c2691",
   "metadata": {},
   "outputs": [],
   "source": [
    "engineered_data_path = \"/Users/agalyaayyadurai/PycharmProjects/Customer-Value-Insights/data/processed/engineered_data.csv\"\n",
    "data.to_csv(engineered_data_path, index=False)"
   ]
  }
 ],
 "metadata": {
  "kernelspec": {
   "display_name": "Python (cvi)",
   "language": "python",
   "name": "cvi"
  },
  "language_info": {
   "codemirror_mode": {
    "name": "ipython",
    "version": 3
   },
   "file_extension": ".py",
   "mimetype": "text/x-python",
   "name": "python",
   "nbconvert_exporter": "python",
   "pygments_lexer": "ipython3",
   "version": "3.12.0"
  }
 },
 "nbformat": 4,
 "nbformat_minor": 5
}

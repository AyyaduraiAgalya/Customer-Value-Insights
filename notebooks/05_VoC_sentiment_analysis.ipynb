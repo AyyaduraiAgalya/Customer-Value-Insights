{
 "cells": [
  {
   "cell_type": "markdown",
   "id": "9c242634-280f-4f5b-a2c1-c82558c2c4df",
   "metadata": {},
   "source": [
    "## Simulate Customer Feedback Data\n",
    "\n",
    "#### Creating a synthetic feedback dataset with:\n",
    "\n",
    "    - CustomerID: Matches the ID from the main dataset to link feedback with customer records.\n",
    "    - Feedback: Text feedback from customers, including a mix of positive, neutral, and negative comments.\n",
    "    - Rating: Numeric rating for each feedback (e.g., 1-5), representing overall satisfaction."
   ]
  },
  {
   "cell_type": "code",
   "execution_count": 7,
   "id": "83324acd-1635-4a4e-9058-24781966f0d6",
   "metadata": {},
   "outputs": [
    {
     "name": "stdout",
     "output_type": "stream",
     "text": [
      "   CustomerID                                           Feedback  Rating\n",
      "0        4297     The new loyalty program is amazing, thank you!       1\n",
      "1        2811     The new loyalty program is amazing, thank you!       3\n",
      "2        3412  The product was damaged on arrival, very disap...       4\n",
      "3        9964          Not satisfied, I expected better quality.       1\n",
      "4       10785  I love the quality of the products, but the de...       1\n"
     ]
    }
   ],
   "source": [
    "import pandas as pd\n",
    "import numpy as np\n",
    "\n",
    "# Load the main dataset to get a list of CustomerIDs\n",
    "data_path = '../data/processed/segmented-customer-data.csv' \n",
    "customer_data = pd.read_csv(data_path)\n",
    "\n",
    "# Sample a subset of CustomerIDs\n",
    "np.random.seed(42)  # For reproducibility\n",
    "sample_customer_ids = np.random.choice(customer_data['ID'], 100, replace=True)\n",
    "\n",
    "# Generate simulated feedback\n",
    "feedback_texts = [\n",
    "    \"I love the quality of the products, but the delivery could be faster.\",\n",
    "    \"Customer service was very helpful with my issue.\",\n",
    "    \"The product was damaged on arrival, very disappointed.\",\n",
    "    \"I’m satisfied with my purchase, great value for money.\",\n",
    "    \"Had trouble navigating the website, but the products are worth it.\",\n",
    "    \"Fantastic experience, will definitely recommend!\",\n",
    "    \"Not satisfied, I expected better quality.\",\n",
    "    \"The delivery was quick, and the product quality is top-notch.\",\n",
    "    \"Had a bad experience with customer support.\",\n",
    "    \"The new loyalty program is amazing, thank you!\",\n",
    "]\n",
    "\n",
    "# Randomly assign feedback and ratings\n",
    "feedback_data = pd.DataFrame({\n",
    "    'CustomerID': sample_customer_ids,\n",
    "    'Feedback': np.random.choice(feedback_texts, 100),\n",
    "    'Rating': np.random.randint(1, 6, size=100)  # Ratings from 1 to 5\n",
    "})\n",
    "\n",
    "# Save the simulated feedback data to a CSV file\n",
    "feedback_data.to_csv('../data/processed/feedback-segmented-customer-data.csv', index=False)\n",
    "\n",
    "# Display the first few rows\n",
    "print(feedback_data.head())\n"
   ]
  },
  {
   "cell_type": "markdown",
   "id": "2d44956e-12f0-4075-8392-4b848606460f",
   "metadata": {},
   "source": [
    "## Perform Sentiment Analysis on Feedback Data\n",
    "\n",
    "With the simulated feedback data, performing sentiment analysis to classify feedback as positive, neutral, or negative. Will use TextBlob for this, which is a simple library that provides sentiment polarity (ranging from -1 for very negative to +1 for very positive)."
   ]
  },
  {
   "cell_type": "code",
   "execution_count": 9,
   "id": "6bc0fee6-af6a-479c-be4f-3e2e1f54781c",
   "metadata": {},
   "outputs": [
    {
     "name": "stdout",
     "output_type": "stream",
     "text": [
      "   CustomerID                                           Feedback  Rating  \\\n",
      "0        4297     The new loyalty program is amazing, thank you!       1   \n",
      "1        2811     The new loyalty program is amazing, thank you!       3   \n",
      "2        3412  The product was damaged on arrival, very disap...       4   \n",
      "3        9964          Not satisfied, I expected better quality.       1   \n",
      "4       10785  I love the quality of the products, but the de...       1   \n",
      "\n",
      "   Sentiment Sentiment_Label  \n",
      "0   0.443182        Positive  \n",
      "1   0.443182        Positive  \n",
      "2  -0.975000        Negative  \n",
      "3   0.050000         Neutral  \n",
      "4   0.500000        Positive  \n"
     ]
    }
   ],
   "source": [
    "from textblob import TextBlob\n",
    "\n",
    "# Load the simulated feedback data\n",
    "feedback_data = pd.read_csv('../data/processed/feedback-segmented-customer-data.csv')\n",
    "\n",
    "# Perform sentiment analysis using TextBlob\n",
    "feedback_data['Sentiment'] = feedback_data['Feedback'].apply(lambda x: TextBlob(x).sentiment.polarity)\n",
    "feedback_data['Sentiment_Label'] = pd.cut(\n",
    "    feedback_data['Sentiment'], bins=[-1, -0.1, 0.1, 1], labels=['Negative', 'Neutral', 'Positive']\n",
    ")\n",
    "\n",
    "# Display the updated feedback data with sentiment scores and labels\n",
    "print(feedback_data.head())\n",
    "\n",
    "# Save the feedback data with sentiment labels for further analysis\n",
    "feedback_data.to_csv('../data/processed/feedback-with-sentiment.csv', index=False)\n"
   ]
  },
  {
   "cell_type": "markdown",
   "id": "a776d76c-4de1-4c4a-9550-70fb1af87fb2",
   "metadata": {},
   "source": [
    "## Analyze Sentiment Distribution and Key Insights\n",
    "\n",
    "To understand overall customer sentiment, analyzing the distribution of sentiment labels and calculating average ratings across sentiment groups."
   ]
  },
  {
   "cell_type": "code",
   "execution_count": 10,
   "id": "3ec06baa-06f7-4bd6-9072-bc6be893c733",
   "metadata": {},
   "outputs": [
    {
     "name": "stdout",
     "output_type": "stream",
     "text": [
      "Sentiment Distribution:\n",
      " Sentiment_Label\n",
      "Positive    61\n",
      "Neutral     20\n",
      "Negative    19\n",
      "Name: count, dtype: int64\n",
      "Average Rating by Sentiment:\n",
      " Sentiment_Label\n",
      "Negative    3.000000\n",
      "Neutral     2.850000\n",
      "Positive    2.836066\n",
      "Name: Rating, dtype: float64\n"
     ]
    },
    {
     "name": "stderr",
     "output_type": "stream",
     "text": [
      "/var/folders/rk/g05w8qn10hz18ykx_wdn9tl00000gp/T/ipykernel_20179/191639812.py:6: FutureWarning: The default of observed=False is deprecated and will be changed to True in a future version of pandas. Pass observed=False to retain current behavior or observed=True to adopt the future default and silence this warning.\n",
      "  avg_rating_by_sentiment = feedback_data.groupby('Sentiment_Label')['Rating'].mean()\n"
     ]
    }
   ],
   "source": [
    "# Analyze sentiment distribution\n",
    "sentiment_counts = feedback_data['Sentiment_Label'].value_counts()\n",
    "print(\"Sentiment Distribution:\\n\", sentiment_counts)\n",
    "\n",
    "# Calculate average rating by sentiment group\n",
    "avg_rating_by_sentiment = feedback_data.groupby('Sentiment_Label')['Rating'].mean()\n",
    "print(\"Average Rating by Sentiment:\\n\", avg_rating_by_sentiment)"
   ]
  }
 ],
 "metadata": {
  "kernelspec": {
   "display_name": "cvi-env",
   "language": "python",
   "name": "env"
  },
  "language_info": {
   "codemirror_mode": {
    "name": "ipython",
    "version": 3
   },
   "file_extension": ".py",
   "mimetype": "text/x-python",
   "name": "python",
   "nbconvert_exporter": "python",
   "pygments_lexer": "ipython3",
   "version": "3.13.0"
  }
 },
 "nbformat": 4,
 "nbformat_minor": 5
}

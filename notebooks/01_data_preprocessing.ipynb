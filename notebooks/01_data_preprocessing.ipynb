{
 "cells": [
  {
   "cell_type": "markdown",
   "id": "3e7a0c32-90b7-48c3-aaf9-31e6d8d2260c",
   "metadata": {},
   "source": [
    "## Load Dataset"
   ]
  },
  {
   "cell_type": "code",
   "execution_count": 6,
   "id": "34ee914f-3b4e-457b-88a2-8ba780e1d26c",
   "metadata": {},
   "outputs": [
    {
     "name": "stdout",
     "output_type": "stream",
     "text": [
      "         ID  Year_Birth   Education Marital_Status   Income  Kidhome  \\\n",
      "0      5524        1957  Graduation         Single  58138.0        0   \n",
      "1      2174        1954  Graduation         Single  46344.0        1   \n",
      "2      4141        1965  Graduation       Together  71613.0        0   \n",
      "3      6182        1984  Graduation       Together  26646.0        1   \n",
      "4      5324        1981         PhD        Married  58293.0        1   \n",
      "...     ...         ...         ...            ...      ...      ...   \n",
      "2235  10870        1967  Graduation        Married  61223.0        0   \n",
      "2236   4001        1946         PhD       Together  64014.0        2   \n",
      "2237   7270        1981  Graduation       Divorced  56981.0        0   \n",
      "2238   8235        1956      Master       Together  69245.0        0   \n",
      "2239   9405        1954         PhD        Married  52869.0        1   \n",
      "\n",
      "      Teenhome Dt_Customer  Recency  MntWines  ...  NumWebVisitsMonth  \\\n",
      "0            0  04/09/2012       58       635  ...                  7   \n",
      "1            1  08/03/2014       38        11  ...                  5   \n",
      "2            0  21/08/2013       26       426  ...                  4   \n",
      "3            0  10/02/2014       26        11  ...                  6   \n",
      "4            0  19/01/2014       94       173  ...                  5   \n",
      "...        ...         ...      ...       ...  ...                ...   \n",
      "2235         1  13/06/2013       46       709  ...                  5   \n",
      "2236         1  10/06/2014       56       406  ...                  7   \n",
      "2237         0  25/01/2014       91       908  ...                  6   \n",
      "2238         1  24/01/2014        8       428  ...                  3   \n",
      "2239         1  15/10/2012       40        84  ...                  7   \n",
      "\n",
      "      AcceptedCmp3  AcceptedCmp4  AcceptedCmp5  AcceptedCmp1  AcceptedCmp2  \\\n",
      "0                0             0             0             0             0   \n",
      "1                0             0             0             0             0   \n",
      "2                0             0             0             0             0   \n",
      "3                0             0             0             0             0   \n",
      "4                0             0             0             0             0   \n",
      "...            ...           ...           ...           ...           ...   \n",
      "2235             0             0             0             0             0   \n",
      "2236             0             0             0             1             0   \n",
      "2237             0             1             0             0             0   \n",
      "2238             0             0             0             0             0   \n",
      "2239             0             0             0             0             0   \n",
      "\n",
      "      Complain  Z_CostContact  Z_Revenue  Response  \n",
      "0            0              3         11         1  \n",
      "1            0              3         11         0  \n",
      "2            0              3         11         0  \n",
      "3            0              3         11         0  \n",
      "4            0              3         11         0  \n",
      "...        ...            ...        ...       ...  \n",
      "2235         0              3         11         0  \n",
      "2236         0              3         11         0  \n",
      "2237         0              3         11         0  \n",
      "2238         0              3         11         0  \n",
      "2239         0              3         11         1  \n",
      "\n",
      "[2240 rows x 29 columns]\n"
     ]
    }
   ],
   "source": [
    "import pandas as pd\n",
    "data = pd.read_csv(\"../data/raw/customer-data.csv\")\n",
    "print(data)"
   ]
  },
  {
   "cell_type": "markdown",
   "id": "062ddffe-8927-43be-941f-5a68aabb983d",
   "metadata": {},
   "source": [
    "## Inspect Dataset"
   ]
  },
  {
   "cell_type": "code",
   "execution_count": 7,
   "id": "e7d231b4-a5cc-4a1c-bcbc-c154172ed88e",
   "metadata": {},
   "outputs": [
    {
     "name": "stdout",
     "output_type": "stream",
     "text": [
      "<class 'pandas.core.frame.DataFrame'>\n",
      "RangeIndex: 2240 entries, 0 to 2239\n",
      "Data columns (total 29 columns):\n",
      " #   Column               Non-Null Count  Dtype  \n",
      "---  ------               --------------  -----  \n",
      " 0   ID                   2240 non-null   int64  \n",
      " 1   Year_Birth           2240 non-null   int64  \n",
      " 2   Education            2240 non-null   object \n",
      " 3   Marital_Status       2240 non-null   object \n",
      " 4   Income               2216 non-null   float64\n",
      " 5   Kidhome              2240 non-null   int64  \n",
      " 6   Teenhome             2240 non-null   int64  \n",
      " 7   Dt_Customer          2240 non-null   object \n",
      " 8   Recency              2240 non-null   int64  \n",
      " 9   MntWines             2240 non-null   int64  \n",
      " 10  MntFruits            2240 non-null   int64  \n",
      " 11  MntMeatProducts      2240 non-null   int64  \n",
      " 12  MntFishProducts      2240 non-null   int64  \n",
      " 13  MntSweetProducts     2240 non-null   int64  \n",
      " 14  MntGoldProds         2240 non-null   int64  \n",
      " 15  NumDealsPurchases    2240 non-null   int64  \n",
      " 16  NumWebPurchases      2240 non-null   int64  \n",
      " 17  NumCatalogPurchases  2240 non-null   int64  \n",
      " 18  NumStorePurchases    2240 non-null   int64  \n",
      " 19  NumWebVisitsMonth    2240 non-null   int64  \n",
      " 20  AcceptedCmp3         2240 non-null   int64  \n",
      " 21  AcceptedCmp4         2240 non-null   int64  \n",
      " 22  AcceptedCmp5         2240 non-null   int64  \n",
      " 23  AcceptedCmp1         2240 non-null   int64  \n",
      " 24  AcceptedCmp2         2240 non-null   int64  \n",
      " 25  Complain             2240 non-null   int64  \n",
      " 26  Z_CostContact        2240 non-null   int64  \n",
      " 27  Z_Revenue            2240 non-null   int64  \n",
      " 28  Response             2240 non-null   int64  \n",
      "dtypes: float64(1), int64(25), object(3)\n",
      "memory usage: 507.6+ KB\n"
     ]
    }
   ],
   "source": [
    "# Get summary statistics\n",
    "data.describe()\n",
    "\n",
    "# Get information about the dataset\n",
    "data.info()\n"
   ]
  },
  {
   "cell_type": "markdown",
   "id": "5841523e-fc08-4091-98c7-03502fbd34b6",
   "metadata": {},
   "source": [
    "## Handle Missing Values"
   ]
  },
  {
   "cell_type": "code",
   "execution_count": 17,
   "id": "509a54d2-8e13-4ee1-b54b-2c3944da410e",
   "metadata": {},
   "outputs": [
    {
     "name": "stdout",
     "output_type": "stream",
     "text": [
      "ID                      0\n",
      "Year_Birth              0\n",
      "Education               0\n",
      "Marital_Status          0\n",
      "Income                 24\n",
      "Kidhome                 0\n",
      "Teenhome                0\n",
      "Dt_Customer             0\n",
      "Recency                 0\n",
      "MntWines                0\n",
      "MntFruits               0\n",
      "MntMeatProducts         0\n",
      "MntFishProducts         0\n",
      "MntSweetProducts        0\n",
      "MntGoldProds            0\n",
      "NumDealsPurchases       0\n",
      "NumWebPurchases         0\n",
      "NumCatalogPurchases     0\n",
      "NumStorePurchases       0\n",
      "NumWebVisitsMonth       0\n",
      "AcceptedCmp3            0\n",
      "AcceptedCmp4            0\n",
      "AcceptedCmp5            0\n",
      "AcceptedCmp1            0\n",
      "AcceptedCmp2            0\n",
      "Complain                0\n",
      "Z_CostContact           0\n",
      "Z_Revenue               0\n",
      "Response                0\n",
      "dtype: int64\n",
      "After Cleaning-------------\n",
      "ID                     0\n",
      "Year_Birth             0\n",
      "Education              0\n",
      "Marital_Status         0\n",
      "Income                 0\n",
      "Kidhome                0\n",
      "Teenhome               0\n",
      "Dt_Customer            0\n",
      "Recency                0\n",
      "MntWines               0\n",
      "MntFruits              0\n",
      "MntMeatProducts        0\n",
      "MntFishProducts        0\n",
      "MntSweetProducts       0\n",
      "MntGoldProds           0\n",
      "NumDealsPurchases      0\n",
      "NumWebPurchases        0\n",
      "NumCatalogPurchases    0\n",
      "NumStorePurchases      0\n",
      "NumWebVisitsMonth      0\n",
      "AcceptedCmp3           0\n",
      "AcceptedCmp4           0\n",
      "AcceptedCmp5           0\n",
      "AcceptedCmp1           0\n",
      "AcceptedCmp2           0\n",
      "Complain               0\n",
      "Z_CostContact          0\n",
      "Z_Revenue              0\n",
      "Response               0\n",
      "dtype: int64\n"
     ]
    }
   ],
   "source": [
    "# Check for missing values\n",
    "print(data.isnull().sum())\n",
    "\n",
    "# Calculate the mean of the 'Income' column\n",
    "income_mean = data['Income'].mean()\n",
    "\n",
    "# Fill NaN values in 'Income' column with the calculated mean\n",
    "data['Income'].fillna(income_mean, inplace=True)\n",
    "\n",
    "print(\"After Cleaning\" + (13*'-'))\n",
    "print(data.isnull().sum())"
   ]
  },
  {
   "cell_type": "markdown",
   "id": "94f3196c-6910-4d2d-87a1-36d300f51e3d",
   "metadata": {},
   "source": [
    "## Remove Duplicates"
   ]
  },
  {
   "cell_type": "code",
   "execution_count": 18,
   "id": "f7a910c5-4946-4aee-9a28-81a88850acb3",
   "metadata": {},
   "outputs": [
    {
     "name": "stdout",
     "output_type": "stream",
     "text": [
      "0\n"
     ]
    }
   ],
   "source": [
    "# Check for duplicates\n",
    "print(data.duplicated().sum())\n",
    "\n",
    "# Remove duplicates if any\n",
    "data.drop_duplicates(inplace=True)\n"
   ]
  },
  {
   "cell_type": "markdown",
   "id": "078aa6f9-4d61-4afd-ac14-d403a315618e",
   "metadata": {},
   "source": [
    "## Save the cleaned data"
   ]
  },
  {
   "cell_type": "code",
   "execution_count": 19,
   "id": "0299292c-0365-4579-8ab5-a1f7e8699351",
   "metadata": {},
   "outputs": [],
   "source": [
    "# Save cleaned data\n",
    "cleaned_data_path = \"../data/processed/cleaned-customer-data.csv\"\n",
    "data.to_csv(cleaned_data_path, index=False)"
   ]
  }
 ],
 "metadata": {
  "kernelspec": {
   "display_name": "cvi-env",
   "language": "python",
   "name": "env"
  },
  "language_info": {
   "codemirror_mode": {
    "name": "ipython",
    "version": 3
   },
   "file_extension": ".py",
   "mimetype": "text/x-python",
   "name": "python",
   "nbconvert_exporter": "python",
   "pygments_lexer": "ipython3",
   "version": "3.13.0"
  }
 },
 "nbformat": 4,
 "nbformat_minor": 5
}
